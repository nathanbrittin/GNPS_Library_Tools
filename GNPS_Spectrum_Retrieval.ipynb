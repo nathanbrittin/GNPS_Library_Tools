{
 "cells": [
  {
   "cell_type": "code",
   "execution_count": 23,
   "metadata": {},
   "outputs": [],
   "source": [
    "import os\n",
    "import sys\n",
    "import re\n",
    "import rdkit\n",
    "from rdkit import Chem\n",
    "from rdkit.Chem import AllChem\n",
    "from tqdm import tqdm\n",
    "from IPython.display import clear_output\n",
    "import pandas as pd\n",
    "import numpy as np\n",
    "import matplotlib.pyplot as plt\n",
    "import plotly.express as px\n",
    "import seaborn as sns\n",
    "\n",
    "# Supress RDKit warnings\n",
    "from rdkit import RDLogger\n",
    "RDLogger.DisableLog('rdApp.*')\n"
   ]
  },
  {
   "cell_type": "code",
   "execution_count": 10,
   "metadata": {},
   "outputs": [],
   "source": [
    "# import txt file\n",
    "def import_library(path):\n",
    "    with open(path, 'r') as f:\n",
    "        file = f.readlines()\n",
    "    return file\n",
    "\n",
    "def retrieve_spectra(GNPS_ID, Library):\n",
    "    ID = str(GNPS_ID).strip()\n",
    "    # print(ID)\n",
    "    if ID is None:\n",
    "        print(\"Error: No ID provided\")\n",
    "        return None\n",
    "    if \"CCMSLIB\" in ID:\n",
    "        # print(\"The ID is formatted correctly\")\n",
    "        pass\n",
    "    else:\n",
    "        print(\"Error: The provided ID is not in the correct format or is not a GNPS_ID\")\n",
    "        return None\n",
    "    GNPS_ID_formatted = \"SPECTRUMID=\" + ID + \"\\n\"\n",
    "    GNPS_ID_index = Library.index(GNPS_ID_formatted)\n",
    "    # print(\"Spectrum ID index: \" + str(GNPS_ID_index))\n",
    "    begin_ion = (int(GNPS_ID_index) - 18)\n",
    "    # print(\"Begin ion index: \" + str(begin_ion))\n",
    "    # Using the index of the GNPS_ID, we can find the beginning of the spectra and the end of the spectra\n",
    "    # Starting at the GNPS_ID_index, continue iterating through the library to find the \"END IONS/n\" string\n",
    "    end_ion = None\n",
    "    for i in range(GNPS_ID_index, len(Library)):\n",
    "        if Library[i] == \"END IONS\\n\":\n",
    "            end_ion = i\n",
    "            break\n",
    "    # print(\"End ion index: \" + str(end_ion))\n",
    "    return Library[begin_ion:end_ion+1]\n",
    "\n",
    "def retrieve_spectra_fast(GNPS_ID, Library, index):\n",
    "    ID = str(GNPS_ID).strip()\n",
    "    # print(ID)\n",
    "    if ID is None:\n",
    "        print(\"Error: No ID provided\")\n",
    "        return None\n",
    "    if \"CCMSLIB\" in ID:\n",
    "        # print(\"The ID is formatted correctly\")\n",
    "        pass\n",
    "    else:\n",
    "        print(\"Error: The provided ID is not in the correct format or is not a GNPS_ID\")\n",
    "        return None\n",
    "    GNPS_ID_index = index\n",
    "    # print(\"Spectrum ID index: \" + str(GNPS_ID_index))\n",
    "    begin_ion = (int(GNPS_ID_index) - 18)\n",
    "    # print(\"Begin ion index: \" + str(begin_ion))\n",
    "    # Using the index of the GNPS_ID, we can find the beginning of the spectra and the end of the spectra\n",
    "    # Starting at the GNPS_ID_index, continue iterating through the library to find the \"END IONS/n\" string\n",
    "    end_ion = None\n",
    "    for i in range(GNPS_ID_index, len(Library)):\n",
    "        if Library[i] == \"END IONS\\n\":\n",
    "            end_ion = i\n",
    "            break\n",
    "    # print(\"End ion index: \" + str(end_ion))\n",
    "    return Library[begin_ion:end_ion+1]\n",
    "\n",
    "def write_mgf(spectra, GNPS_ID, ion, output_path):\n",
    "    ID = str(GNPS_ID).strip()\n",
    "    ion = str(ion).strip()\n",
    "    # Get the index of the spectrum id entry in the spectra list\n",
    "    SPECTRUMID_index = spectra.index(\"SPECTRUMID=\" + ID + \"\\n\")\n",
    "    # Get SMILES entry using regex\n",
    "    try:\n",
    "        smiles = re.search(r'SMILES=(.*)\\n', spectra[12]).group(1)\n",
    "        # Get the exact mass of smiles using RDKit\n",
    "        mol = Chem.MolFromSmiles(smiles)\n",
    "        exact_mass = Chem.rdMolDescriptors.CalcExactMolWt(mol)\n",
    "        # Replace the PEPMASS entry with the correct exact mass\n",
    "        spectra[1] = \"PEPMASS=\" + (\"%.5f\" % exact_mass) + \"\\n\"\n",
    "    except:\n",
    "        pass\n",
    "    # Replace the spectrum id entry with the correct spectrum id\n",
    "    spectra[SPECTRUMID_index] = \"SPECTRUMID=\" + ID + \"\\n\" + \"FEATURE_ID=\" + ID + \"\\n\" + \"POLARITY=POS\\n\" + \"ION=[M+\" + ion + \"]+\\n\"\n",
    "    # Delete the lines containing 'INCHI=' and 'INCHIAUX=' and \"SMILES=\"\n",
    "    with open(output_path + \"/\" + ID + \".mgf\", 'w') as f:\n",
    "        for line in spectra:\n",
    "            f.write(line)\n",
    "    return None\n",
    "\n",
    "def basic_substructure_search(Substructure, Library):\n",
    "    # Search for the structure in the library in all lines that start with \"SMILES=\"\n",
    "    # If the structure is found, add index to list\n",
    "    matches = []\n",
    "    structures = []\n",
    "    for i in range(len(Library)):\n",
    "        if Library[i].startswith(\"SMILES=\"):\n",
    "            if Substructure in Library[i]:\n",
    "                matches.append(Library[i+6])\n",
    "                structures.append(Library[i].strip(\"SMILES=\").strip(\"\\n\"))\n",
    "    return matches, structures\n",
    "\n",
    "def basic_mass_search(Mass, Library, ppm):\n",
    "    # search for the mass in the library in all lines that start with \"PEPMASS=\"\n",
    "    # If the mass is found, add index to list\n",
    "    matches = []\n",
    "    masses = []\n",
    "    # search_string = \"PEPMASS=\" + str(Mass) + \"\\n\"\n",
    "    ppm_error = (Mass * (ppm/1000000))\n",
    "    for i in range(len(Library)):\n",
    "        if Library[i].startswith(\"PEPMASS=\"):\n",
    "            x =float(Library[i].strip(\"PEPMASS=\").strip(\"\\n\"))\n",
    "            if abs(x - Mass) <= ppm_error:\n",
    "                matches.append(Library[i+17].strip(\"SPECTRUMID\").strip(\"=\").strip(\"\\n\"))\n",
    "                masses.append(x)\n",
    "    return matches, masses\n",
    "\n",
    "def basic_name_search(Name, Library, num_matches=10):\n",
    "    # Search for the Name in the library in all lines that start with \"NAME=\"\n",
    "    # If the name is found, add index to list\n",
    "    Matches = []\n",
    "    GNPS_IDs = []\n",
    "    # Compile the regex\n",
    "    Regex = re.compile(Name, re.IGNORECASE)\n",
    "    # Search the library using list comprehension and regex, stop after the number of matches is reaches the num_matches variable. If num_matches is None, then return all matches\n",
    "    if num_matches == None:\n",
    "        Matches_index = [i for i in range(len(Library)) if Library[i].startswith(\"NAME=\") if re.search(Regex, Library[i])]\n",
    "    else:\n",
    "        pass\n",
    "    if num_matches != None:\n",
    "        Matches_index = []\n",
    "        for i in range(len(Library)):\n",
    "            if Library[i].startswith(\"NAME=\"):\n",
    "                if re.search(Regex, Library[i]):\n",
    "                    Matches_index.append(i)\n",
    "                    if len(Matches_index) == num_matches:\n",
    "                        break\n",
    "    # Get the Names from the matches index\n",
    "    Matches = [Library[i] for i in Matches_index]\n",
    "    Matches = [i.strip(\"NAME\").strip(\"=\").strip(\"\\n\") for i in Matches]\n",
    "    # Get the GNPS_IDs from the matches index\n",
    "    GNPS_IDs = [Library[i+9] for i in Matches_index]\n",
    "    GNPS_IDs = [i.strip(\"SPECTRUMID\").strip(\"=\").strip(\"\\n\") for i in GNPS_IDs]\n",
    "    return Matches, GNPS_IDs\n",
    "\n",
    "def display_spectra(mgf_spectra):\n",
    "    if mgf_spectra == None:\n",
    "        print(\"Error: No spectra provided\")\n",
    "        return None\n",
    "    # Get the mass/intensity pairs from the mgf_spectra\n",
    "    mass_intensity_pairs = []\n",
    "    # Starting that the line beginning with SCANS=, iterate through the mgf_spectra and append the mass/intensity pairs to the mass_intensity_pairs list. Stop when the line begins with \"END IONS\"\n",
    "    for i in range(len(mgf_spectra)):\n",
    "        if mgf_spectra[i].startswith(\"SCANS=\"):\n",
    "            for j in range(i+1, len(mgf_spectra)):\n",
    "                if mgf_spectra[j].startswith(\"END IONS\"):\n",
    "                    break\n",
    "                else:\n",
    "                    mass_intensity_pairs.append(mgf_spectra[j].strip(\"\\n\").split(\" \"))\n",
    "    # Split each mass_intensity_pair into a mass and intensity by splitting on the tab character\n",
    "    mass_intensity_pairs = [i[0].split(\"\\t\") for i in mass_intensity_pairs]\n",
    "    # print(mass_intensity_pairs)\n",
    "    # Make 2 lists of the masses and intensities and convert them to floats\n",
    "    masses = [float(i[0]) for i in mass_intensity_pairs]\n",
    "    # print(masses)\n",
    "    intensities = [float(i[1]) for i in mass_intensity_pairs]\n",
    "    # print(intensities)\n",
    "    # Plot the mass_intensity_df using a barplot\n",
    "    fig, ax = plt.subplots(figsize=(20,10))\n",
    "    ax.bar(masses, intensities, width=0.8, color='#464141')\n",
    "    # Retrieve the title from the mgf_spectra\n",
    "    title = mgf_spectra[9].strip(\"NAME\").strip(\"=\").strip(\"\\n\") + \"; \" + mgf_spectra[18].strip(\"SPECTRUMID\").strip(\"=\").strip(\"\\n\") + \"; \" + mgf_spectra[1].strip(\"PEPMASS\").strip(\"=\").strip(\"\\n\") + \"m/z\"\n",
    "    ax.set_title(\"Mass Spectrum of \" + title, fontsize=24)\n",
    "    ax.set_xlabel(\"Mass (m/z)\", fontsize=20)\n",
    "    ax.set_ylabel(\"Intensity\", fontsize=20)\n",
    "    # Set the x range\n",
    "    ax.set_xlim(0, max(masses) + 10)\n",
    "    # Set the x axis to be in increments of 50 with a tick every 10\n",
    "    # plt.xticks(np.arange(0, mass_intensity_df[\"Mass\"].max(), 50))\n",
    "    # Remove the x labels\n",
    "    # plt.xlabel(\"\")\n",
    "    plt.show()\n",
    "    return fig\n",
    "\n",
    "def display_spectra_interactive(mgf_spectra):\n",
    "    # Get the mass/intensity pairs from the mgf_spectra\n",
    "    mass_intensity_pairs = []\n",
    "    # Starting that the line beginning with SCANS=, iterate through the mgf_spectra and append the mass/intensity pairs to the mass_intensity_pairs list. Stop when the line begins with \"END IONS\"\n",
    "    for i in range(len(mgf_spectra)):\n",
    "        if mgf_spectra[i].startswith(\"SCANS=\"):\n",
    "            for j in range(i+1, len(mgf_spectra)):\n",
    "                if mgf_spectra[j].startswith(\"END IONS\"):\n",
    "                    break\n",
    "                else:\n",
    "                    mass_intensity_pairs.append(mgf_spectra[j].strip(\"\\n\").split(\" \"))\n",
    "    # Split each mass_intensity_pair into a mass and intensity by splitting on the tab character\n",
    "    mass_intensity_pairs = [i[0].split(\"\\t\") for i in mass_intensity_pairs]\n",
    "    # print(mass_intensity_pairs)\n",
    "    # Make 2 lists of the masses and intensities and convert them to floats\n",
    "    masses = [float(i[0]) for i in mass_intensity_pairs]\n",
    "    # print(masses)\n",
    "    intensities = [float(i[1]) for i in mass_intensity_pairs]\n",
    "    # print(intensities)\n",
    "    mass_intensity_df = pd.DataFrame({\"Mass\": masses, \"Intensity\": intensities}, columns=[\"Mass\", \"Intensity\"], dtype=float)\n",
    "    # print(mass_intensity_df)\n",
    "    # Display using the plotly express bar chart\n",
    "    title=mgf_spectra[9].strip(\"NAME\").strip(\"=\").strip(\"\\n\") + \"; \" + mgf_spectra[18].strip(\"SPECTRUMID\").strip(\"=\").strip(\"\\n\") + \"; \" + mgf_spectra[1].strip(\"PEPMASS\").strip(\"=\").strip(\"\\n\") + \"m/z\"\n",
    "    fig = px.bar(mass_intensity_pairs,\n",
    "                 x=0,\n",
    "                 y=1,\n",
    "                 title=title)\n",
    "    fig.update_layout(\n",
    "        xaxis_title=\"Mass (m/z)\",\n",
    "        yaxis_title=\"Intensity\",\n",
    "        font=dict(\n",
    "            family=\"Courier New, monospace\",\n",
    "            size=18,\n",
    "            color=\"#464141\"\n",
    "        )\n",
    "    )\n",
    "    fig.show()\n",
    "\n",
    "def input_confirm_structure(ID_structure_dict):\n",
    "    # Display each structure to the user and ask for input. If input is y then return True, else return False\n",
    "    # If true, add the key value pair to the dictionary to return\n",
    "    # If false, do not add the key value pair to the dictionary to return\n",
    "    # If the user enters \"exit\", exit the program\n",
    "\n",
    "    # Create a dictionary to store the user input\n",
    "    confirmed_structures = {}\n",
    "    # Iterate through the dictionary and display the key value pairs to the user\n",
    "    for key, value in ID_structure_dict.items():\n",
    "        # print(\"GNPS_ID: \" + key)\n",
    "        # print(\"Structure: \" + value)\n",
    "        # Ask for user input\n",
    "        # Display the structure to the user using RDKit\n",
    "        mol = Chem.MolFromSmiles(value)\n",
    "        img = Chem.Draw.MolToImage(mol)\n",
    "        display(img)\n",
    "        question = input(\"Do you want to add this structure to the dictionary? (y/n): \")\n",
    "        if question == \"exit\":\n",
    "            sys.exit()\n",
    "        if question == \"y\" or question == \"Y\":\n",
    "            # Add the key value pair to the dictionary to return\n",
    "            confirmed_structures[key] = value\n",
    "            pass\n",
    "        else:\n",
    "            # Do not add the key value pair to the dictionary to return\n",
    "            pass\n",
    "        clear_output(wait=True)\n",
    "    return confirmed_structures"
   ]
  },
  {
   "cell_type": "code",
   "execution_count": 4,
   "metadata": {},
   "outputs": [],
   "source": [
    "gnps_library = import_library(\"C:/Users/nbrittin/Desktop/GNPS Libraries/ALL_GNPS_05-25-23.mgf\")\n",
    "# print(gnps_library[0:10])"
   ]
  },
  {
   "cell_type": "code",
   "execution_count": 5,
   "metadata": {},
   "outputs": [],
   "source": [
    "output_dir = \"C:/Users/nbrittin/Desktop/Fingerprint Chemical Diversity Project/Polyene Identification/GNPS Spectra\"\n",
    "# write_mgf(spectra, \"CCMSLIB00000001547\", 'H', output_dir)"
   ]
  },
  {
   "cell_type": "code",
   "execution_count": 27,
   "metadata": {},
   "outputs": [
    {
     "name": "stdout",
     "output_type": "stream",
     "text": [
      "128\n",
      "128\n"
     ]
    }
   ],
   "source": [
    "polyene_matches, polyene_structures = basic_substructure_search(\"C=C/C=C/C=C\", gnps_library)\n",
    "print(len(polyene_matches))\n",
    "print(len(polyene_structures))\n",
    "# Strip the SPECRTUMID= from the polyene_matches\n",
    "polyene_matches = [i.strip(\"SPECTRUMID\").strip(\"=\").strip(\"\\n\") for i in polyene_matches]\n",
    "# Make dictionary from matches and structures\n",
    "polyene_dict = dict(zip(polyene_matches, polyene_structures))\n",
    "print(len(polyene_dict))\n",
    "# Use the input_confirm_structure function to get the user input on the polyene_dict\n",
    "confirmed_polyenes = input_confirm_structure(polyene_dict)\n",
    "print(len(confirmed_polyenes))\n",
    "print(confirmed_polyenes)\n",
    "# Remove duplicates from the confirmed_polyenes dictionary using the values\n",
    "# Create a list of the values\n",
    "polyene_values = list(confirmed_polyenes.values())\n",
    "# Create a list of the unique values\n",
    "unique_polyene_values = list(set(polyene_values))\n",
    "# Create a dictionary from the unique values list and their matching keys in the confirmed_polyenes dictionary\n",
    "unique_polyenes = {key: value for key, value in confirmed_polyenes.items() if value in unique_polyene_values}\n",
    "print(len(unique_polyenes))\n",
    "print(unique_polyenes)\n",
    "\n",
    "unique_polyene_mols = []\n",
    "# Convert all values in the unique_polyenes dictionary to mols and display them\n",
    "for key, value in unique_polyenes.items():\n",
    "    mol = Chem.MolFromSmiles(value)\n",
    "    unique_polyene_mols.append(mol)\n",
    "\n",
    "img = Chem.Draw.MolsToGridImage(unique_polyene_mols, molsPerRow=4, subImgSize=(200,200))\n",
    "display(img)\n",
    "# Remove the 14th entry from the unique_polyenes dictionary\n",
    "bad = list(unique_polyenes.keys())[13]\n",
    "del unique_polyenes[bad]\n",
    "print(len(unique_polyenes))\n",
    "unique_polyene_mols = []\n",
    "# Convert all values in the unique_polyenes dictionary to mols and display them\n",
    "for key, value in unique_polyenes.items():\n",
    "    mol = Chem.MolFromSmiles(value)\n",
    "    unique_polyene_mols.append(mol)\n",
    "\n",
    "img = Chem.Draw.MolsToGridImage(unique_polyene_mols, molsPerRow=4, subImgSize=(200,200))\n",
    "display(img)"
   ]
  },
  {
   "cell_type": "code",
   "execution_count": 7,
   "metadata": {},
   "outputs": [
    {
     "name": "stdout",
     "output_type": "stream",
     "text": [
      "587991\n"
     ]
    }
   ],
   "source": [
    "gnps_ids = []\n",
    "for i in range(len(gnps_library)):\n",
    "    if gnps_library[i].startswith(\"SPECTRUMID=\"):\n",
    "        gnps_ids.append(gnps_library[i].strip(\"SPECTRUMID\").strip(\"=\").strip(\"\\n\"))\n",
    "print(len(gnps_ids))"
   ]
  },
  {
   "cell_type": "code",
   "execution_count": 9,
   "metadata": {},
   "outputs": [
    {
     "name": "stderr",
     "output_type": "stream",
     "text": [
      "100%|██████████| 1000/1000 [11:58<00:00,  1.39it/s]"
     ]
    },
    {
     "name": "stdout",
     "output_type": "stream",
     "text": [
      "1000\n"
     ]
    },
    {
     "name": "stderr",
     "output_type": "stream",
     "text": [
      "\n"
     ]
    }
   ],
   "source": [
    "# Make a test set of 1000 random ids\n",
    "test_set = np.random.choice(gnps_ids, 1000, replace=False)\n",
    "# Retrieve the spectra for each of the ids in the test_set\n",
    "test_set_spectra = []\n",
    "for i in tqdm(range(len(test_set))):\n",
    "    test_set_spectra.append(retrieve_spectra(test_set[i], gnps_library))\n",
    "print(len(test_set_spectra))"
   ]
  },
  {
   "cell_type": "code",
   "execution_count": 11,
   "metadata": {},
   "outputs": [
    {
     "name": "stdout",
     "output_type": "stream",
     "text": [
      "587991\n"
     ]
    }
   ],
   "source": [
    "gnps_id_index_dict = {}\n",
    "for i in range(len(gnps_library)):\n",
    "    if gnps_library[i].startswith(\"SPECTRUMID=\"):\n",
    "        gnps_id_index_dict[gnps_library[i].strip(\"SPECTRUMID\").strip(\"=\").strip(\"\\n\")] = i\n",
    "print(len(gnps_id_index_dict))"
   ]
  },
  {
   "cell_type": "code",
   "execution_count": 20,
   "metadata": {},
   "outputs": [
    {
     "name": "stdout",
     "output_type": "stream",
     "text": [
      "[('CCMSLIB00005763202', 63149662), ('CCMSLIB00009949614', 39573638), ('CCMSLIB00005771178', 63538654), ('CCMSLIB00006472812', 55627520), ('CCMSLIB00006485005', 55986350), ('CCMSLIB00000563242', 63969928), ('CCMSLIB00006120256', 93862244), ('CCMSLIB00006455379', 55132908), ('CCMSLIB00006446913', 54863623), ('CCMSLIB00010007800', 32824772)]\n"
     ]
    }
   ],
   "source": [
    "# Make a test dictionary of 1000 random key value pairs\n",
    "test_set = np.random.choice(list(gnps_id_index_dict.keys()), 1000, replace=False)\n",
    "test_dict = {}\n",
    "# Get all the values from the gnps_id_index_dict that match the keys in the test_set\n",
    "for key in test_set:\n",
    "    test_dict[key] = gnps_id_index_dict[key]\n",
    "\n",
    "# Print the first 10 entries of the test_dict\n",
    "print(list(test_dict.items())[0:10])\n"
   ]
  },
  {
   "cell_type": "code",
   "execution_count": 21,
   "metadata": {},
   "outputs": [
    {
     "name": "stderr",
     "output_type": "stream",
     "text": [
      "100%|██████████| 1000/1000 [00:00<00:00, 71424.02it/s]"
     ]
    },
    {
     "name": "stdout",
     "output_type": "stream",
     "text": [
      "1000\n"
     ]
    },
    {
     "name": "stderr",
     "output_type": "stream",
     "text": [
      "\n"
     ]
    }
   ],
   "source": [
    "# Retrieve the spectra for each of the ids in the test_dict\n",
    "test_set_spectra = []\n",
    "for key, value in tqdm(test_dict.items()):\n",
    "    test_set_spectra.append(retrieve_spectra_fast(key, gnps_library, value))\n",
    "print(len(test_set_spectra))"
   ]
  },
  {
   "cell_type": "code",
   "execution_count": 34,
   "metadata": {},
   "outputs": [
    {
     "name": "stdout",
     "output_type": "stream",
     "text": [
      "                                      Name  Positive             GNPS_ID\n",
      "0   CCMSLIB00004699064_C51H82O21_[M_Na]__6         1  CCMSLIB00004699064\n",
      "1   CCMSLIB00004705991_C42H72O14_[M_H]__13         1  CCMSLIB00004705991\n",
      "2   CCMSLIB00004707696_C47H74O17_[M_K]__14         1  CCMSLIB00004707696\n",
      "3  CCMSLIB00004710151_C28H36N2O4_[M-H]-_17         1  CCMSLIB00004710151\n",
      "4   CCMSLIB00004721627_C48H72O14_[M_K]__26         1  CCMSLIB00004721627\n",
      "59\n"
     ]
    }
   ],
   "source": [
    "# Import csv with all the GNPS IDs and their predictions\n",
    "predicted_positive = pd.read_csv(\"C:/Users/nbrittin/Desktop/Polyene_Identification_Project/Experiments/Postgenesus_Model_Evaluation/Testing Models FPR/GNPS_predicted_positives.csv\")\n",
    "\n",
    "# Extract the GNPS IDS from the Name column\n",
    "predicted_positive[\"GNPS_ID\"] = predicted_positive[\"Name\"].str.extract(r'(CCMSLIB[0-9]+)')\n",
    "print(predicted_positive.head())\n",
    "\n",
    "# Make a list of the GNPS IDs\n",
    "predicted_positive_ids = list(predicted_positive[\"GNPS_ID\"])\n",
    "print(len(predicted_positive_ids))\n",
    "    "
   ]
  },
  {
   "cell_type": "code",
   "execution_count": 44,
   "metadata": {},
   "outputs": [
    {
     "name": "stdout",
     "output_type": "stream",
     "text": [
      "59\n"
     ]
    },
    {
     "name": "stderr",
     "output_type": "stream",
     "text": [
      "100%|██████████| 59/59 [00:00<?, ?it/s]"
     ]
    },
    {
     "name": "stdout",
     "output_type": "stream",
     "text": [
      "50 : The number is less than the number of ids because some ids were duplicates\n"
     ]
    },
    {
     "name": "stderr",
     "output_type": "stream",
     "text": [
      "\n"
     ]
    }
   ],
   "source": [
    "# For each of the ids in the predicted_positive_ids list get the index from the gnps_id_index_dict\n",
    "predicted_positive_indices_dict = {}\n",
    "failed_ids = []\n",
    "print(len(predicted_positive_ids))\n",
    "for i in tqdm(range(len(predicted_positive_ids))):\n",
    "    # Try to get the index from the gnps_id_index_dict\n",
    "    try:\n",
    "        predicted_positive_indices_dict[predicted_positive_ids[i]] = gnps_id_index_dict[predicted_positive_ids[i]]\n",
    "    except:\n",
    "        failed_ids.append(predicted_positive_ids[i])\n",
    "print(len(predicted_positive_indices_dict), \": The number is less than the number of ids because some ids were duplicates\")"
   ]
  },
  {
   "cell_type": "code",
   "execution_count": 45,
   "metadata": {},
   "outputs": [
    {
     "name": "stdout",
     "output_type": "stream",
     "text": [
      "CCMSLIB00004699064 68254546\n",
      "CCMSLIB00004705991 72098637\n",
      "CCMSLIB00004707696 73092891\n",
      "CCMSLIB00004710151 74357500\n",
      "CCMSLIB00004721627 92566994\n",
      "CCMSLIB00006374509 52475391\n",
      "CCMSLIB00006403179 53455917\n",
      "CCMSLIB00000563309 63973179\n",
      "CCMSLIB00006488625 56087153\n",
      "CCMSLIB00000569623 64333397\n",
      "CCMSLIB00006565210 58842141\n",
      "CCMSLIB00006685117 92945065\n",
      "CCMSLIB00009920871 33519229\n",
      "CCMSLIB00009921138 33585008\n",
      "CCMSLIB00009922791 34060496\n",
      "CCMSLIB00009927945 35352050\n",
      "CCMSLIB00009935582 36949186\n",
      "CCMSLIB00009936639 37218341\n",
      "CCMSLIB00009948721 39431850\n",
      "CCMSLIB00009955842 40874292\n",
      "CCMSLIB00009958102 41824507\n",
      "CCMSLIB00009958650 42039538\n",
      "CCMSLIB00009958923 42129037\n",
      "CCMSLIB00009963350 43162362\n",
      "CCMSLIB00009971313 44783354\n",
      "CCMSLIB00009983018 47405129\n",
      "CCMSLIB00009987719 48277127\n",
      "CCMSLIB00009989485 48544172\n",
      "CCMSLIB00010060712 24843156\n",
      "CCMSLIB00010062182 24934025\n",
      "CCMSLIB00010063383 25010231\n",
      "CCMSLIB00010066750 25259904\n",
      "CCMSLIB00010068043 25354024\n",
      "CCMSLIB00010070582 29168062\n",
      "CCMSLIB00010075344 29423971\n",
      "CCMSLIB00010075779 29446850\n",
      "CCMSLIB00010076117 29464955\n",
      "CCMSLIB00010076263 25917471\n",
      "CCMSLIB00010079660 29663745\n",
      "CCMSLIB00010084014 29940980\n",
      "CCMSLIB00010084456 26581865\n",
      "CCMSLIB00010086010 26688137\n",
      "CCMSLIB00010087962 26809942\n",
      "CCMSLIB00010088602 26848393\n",
      "CCMSLIB00010092401 27335178\n",
      "CCMSLIB00010095092 27731441\n",
      "CCMSLIB00010095675 27812432\n",
      "CCMSLIB00010100237 28292573\n",
      "CCMSLIB00010100735 28341012\n",
      "CCMSLIB00010113114 31879256\n"
     ]
    }
   ],
   "source": [
    "# Print the whole dictionary\n",
    "for key, value in predicted_positive_indices_dict.items():\n",
    "    print(key, value)"
   ]
  },
  {
   "cell_type": "code",
   "execution_count": 46,
   "metadata": {},
   "outputs": [
    {
     "name": "stdout",
     "output_type": "stream",
     "text": [
      "50\n"
     ]
    },
    {
     "name": "stderr",
     "output_type": "stream",
     "text": [
      "100%|██████████| 50/50 [00:00<00:00, 50003.62it/s]"
     ]
    },
    {
     "name": "stdout",
     "output_type": "stream",
     "text": [
      "50\n"
     ]
    },
    {
     "name": "stderr",
     "output_type": "stream",
     "text": [
      "\n"
     ]
    }
   ],
   "source": [
    "# Retrieve the spectra for each of the ids in the predicted_positive_indices_dict\n",
    "predicted_positive_spectra = []\n",
    "print(len(predicted_positive_indices_dict))\n",
    "for key, value in tqdm(predicted_positive_indices_dict.items()):\n",
    "    predicted_positive_spectra.append(retrieve_spectra_fast(key, gnps_library, value))\n",
    "print(len(predicted_positive_spectra))"
   ]
  },
  {
   "cell_type": "code",
   "execution_count": 47,
   "metadata": {},
   "outputs": [
    {
     "name": "stderr",
     "output_type": "stream",
     "text": [
      " 46%|████▌     | 23/50 [00:00<00:00, 159.66it/s]\n"
     ]
    },
    {
     "ename": "ValueError",
     "evalue": "'SPECTRUMID=CCMSLIB00009958923\\n' is not in list",
     "output_type": "error",
     "traceback": [
      "\u001b[1;31m---------------------------------------------------------------------------\u001b[0m",
      "\u001b[1;31mValueError\u001b[0m                                Traceback (most recent call last)",
      "\u001b[1;32m~\\AppData\\Local\\Temp/ipykernel_16608/3940978081.py\u001b[0m in \u001b[0;36m<module>\u001b[1;34m\u001b[0m\n\u001b[0;32m      1\u001b[0m \u001b[1;31m# Write the spectra to mgf files\u001b[0m\u001b[1;33m\u001b[0m\u001b[1;33m\u001b[0m\u001b[0m\n\u001b[0;32m      2\u001b[0m \u001b[1;32mfor\u001b[0m \u001b[0mi\u001b[0m \u001b[1;32min\u001b[0m \u001b[0mtqdm\u001b[0m\u001b[1;33m(\u001b[0m\u001b[0mrange\u001b[0m\u001b[1;33m(\u001b[0m\u001b[0mlen\u001b[0m\u001b[1;33m(\u001b[0m\u001b[0mpredicted_positive_spectra\u001b[0m\u001b[1;33m)\u001b[0m\u001b[1;33m)\u001b[0m\u001b[1;33m)\u001b[0m\u001b[1;33m:\u001b[0m\u001b[1;33m\u001b[0m\u001b[1;33m\u001b[0m\u001b[0m\n\u001b[1;32m----> 3\u001b[1;33m     \u001b[0mwrite_mgf\u001b[0m\u001b[1;33m(\u001b[0m\u001b[0mpredicted_positive_spectra\u001b[0m\u001b[1;33m[\u001b[0m\u001b[0mi\u001b[0m\u001b[1;33m]\u001b[0m\u001b[1;33m,\u001b[0m \u001b[0mpredicted_positive_ids\u001b[0m\u001b[1;33m[\u001b[0m\u001b[0mi\u001b[0m\u001b[1;33m]\u001b[0m\u001b[1;33m,\u001b[0m \u001b[1;34m'H'\u001b[0m\u001b[1;33m,\u001b[0m \u001b[1;34m\"C:/Users/nbrittin/Desktop/Polyene_Identification_Project/Experiments/Postgenesus_Model_Evaluation/Testing Models FPR/Predicted Positive Spectra\"\u001b[0m\u001b[1;33m)\u001b[0m\u001b[1;33m\u001b[0m\u001b[1;33m\u001b[0m\u001b[0m\n\u001b[0m",
      "\u001b[1;32m~\\AppData\\Local\\Temp/ipykernel_16608/2786294684.py\u001b[0m in \u001b[0;36mwrite_mgf\u001b[1;34m(spectra, GNPS_ID, ion, output_path)\u001b[0m\n\u001b[0;32m     62\u001b[0m     \u001b[0mion\u001b[0m \u001b[1;33m=\u001b[0m \u001b[0mstr\u001b[0m\u001b[1;33m(\u001b[0m\u001b[0mion\u001b[0m\u001b[1;33m)\u001b[0m\u001b[1;33m.\u001b[0m\u001b[0mstrip\u001b[0m\u001b[1;33m(\u001b[0m\u001b[1;33m)\u001b[0m\u001b[1;33m\u001b[0m\u001b[1;33m\u001b[0m\u001b[0m\n\u001b[0;32m     63\u001b[0m     \u001b[1;31m# Get the index of the spectrum id entry in the spectra list\u001b[0m\u001b[1;33m\u001b[0m\u001b[1;33m\u001b[0m\u001b[0m\n\u001b[1;32m---> 64\u001b[1;33m     \u001b[0mSPECTRUMID_index\u001b[0m \u001b[1;33m=\u001b[0m \u001b[0mspectra\u001b[0m\u001b[1;33m.\u001b[0m\u001b[0mindex\u001b[0m\u001b[1;33m(\u001b[0m\u001b[1;34m\"SPECTRUMID=\"\u001b[0m \u001b[1;33m+\u001b[0m \u001b[0mID\u001b[0m \u001b[1;33m+\u001b[0m \u001b[1;34m\"\\n\"\u001b[0m\u001b[1;33m)\u001b[0m\u001b[1;33m\u001b[0m\u001b[1;33m\u001b[0m\u001b[0m\n\u001b[0m\u001b[0;32m     65\u001b[0m     \u001b[1;31m# Get SMILES entry using regex\u001b[0m\u001b[1;33m\u001b[0m\u001b[1;33m\u001b[0m\u001b[0m\n\u001b[0;32m     66\u001b[0m     \u001b[1;32mtry\u001b[0m\u001b[1;33m:\u001b[0m\u001b[1;33m\u001b[0m\u001b[1;33m\u001b[0m\u001b[0m\n",
      "\u001b[1;31mValueError\u001b[0m: 'SPECTRUMID=CCMSLIB00009958923\\n' is not in list"
     ]
    }
   ],
   "source": [
    "# Write the spectra to mgf files\n",
    "for i in tqdm(range(len(predicted_positive_spectra))):\n",
    "    write_mgf(predicted_positive_spectra[i], predicted_positive_ids[i], 'H', \"C:/Users/nbrittin/Desktop/Polyene_Identification_Project/Experiments/Postgenesus_Model_Evaluation/Testing Models FPR/Predicted Positive Spectra\")"
   ]
  },
  {
   "cell_type": "code",
   "execution_count": 53,
   "metadata": {},
   "outputs": [
    {
     "name": "stdout",
     "output_type": "stream",
     "text": [
      "['BEGIN IONS\\n', 'PEPMASS=835.534\\n', 'CHARGE=1\\n', 'MSLEVEL=2\\n', 'SOURCE_INSTRUMENT=ESI-qTof\\n', 'FILENAME=suspect_list_batch_creation.mgf\\n', 'SEQ=*..*\\n', 'IONMODE=Negative\\n', 'ORGANISM=GNPS-SUSPECTLIST\\n', 'NAME=Suspect related to Massbank:LQB00683 PI 36:4 (predicted molecular formula: C43H81O13P) with delta m/z -21.984 (putative explanation: glyoxal-derived AGE (reverse)|Sodium adduct (reverse); atomic difference: -2C,2H|1H,-1Na) [M-H]-\\n', 'PI=Pieter Dorrestein\\n', 'DATACOLLECTOR=Wout Bittremieux\\n', 'SMILES=N/A\\n', 'INCHI=1S/C45H79O13P/c1-3-5-7-9-11-13-15-17-18-19-20-22-24-26-28-30-32-34-39(47)57-37(36-56-59(53,54)58-45-43(51)41(49)40(48)42(50)44(45)52)35-55-38(46)33-31-29-27-25-23-21-16-14-12-10-8-6-4-2/h5,7,11,13,17-18,20,22,37,40-45,48-52H,3-4,6,8-10,12,14-16,19,21,23-36H2,1-2H3,(H,53,54)/b7-5-,13-11-,18-17-,22-20- - 21.984 Da\\n', 'INCHIAUX=N/A\\n', 'PUBMED=N/A\\n', 'SUBMITUSER=mpanitchpakdi\\n', 'LIBRARYQUALITY=4\\n', 'SPECTRUMID=CCMSLIB00009958923\\nFEATURE_ID=CCMSLIB00009958923\\nPOLARITY=POS\\nION=[M+H]+\\n', 'SCANS=39379\\n', '58.927528\\t5676.11084\\n', '59.013729\\t7799.34668\\n', '63.209728\\t6193.769531\\n', '67.7145\\t6591.21875\\n', '78.958931\\t326225.90625\\n', '84.459297\\t7270.661621\\n', '92.521713\\t34236.421875\\n', '96.969658\\t93060.796875\\n', '121.570198\\t7102.437988\\n', '122.631416\\t8741.827148\\n', '134.985275\\t54174.71875\\n', '152.99588\\t1052674.875\\n', '153.999344\\t13707.823242\\n', '171.006699\\t34349.109375\\n', '187.007324\\t13213.112305\\n', '223.001404\\t844958.75\\n', '224.005981\\t29292.839844\\n', '241.011978\\t3825297.0\\n', '242.016052\\t79825.4375\\n', '243.016464\\t69258.820312\\n', '253.217316\\t537163.6875\\n', '254.22081\\t8813.404297\\n', '255.233047\\t2877499.5\\n', '256.236237\\t132990.203125\\n', '257.238983\\t49303.785156\\n', '259.022491\\t301670.5\\n', '279.232758\\t181198.546875\\n', '280.236176\\t161703.921875\\n', '281.248596\\t2773491.5\\n', '282.251953\\t11111.501953\\n', '283.264282\\t614048.0\\n', '284.268127\\t9879.021484\\n', '297.038055\\t638793.0\\n', '298.041473\\t9966.125\\n', '315.04895\\t163876.921875\\n', '367.158966\\t17131.166016\\n', '369.173798\\t31995.455078\\n', '382.225952\\t7640.475586\\n', '389.210144\\t66518.703125\\n', '391.225739\\t2025707.25\\n', '392.230225\\t107048.328125\\n', '393.232086\\t74317.320312\\n', '409.235748\\t141840.453125\\n', '415.224976\\t9702.780273\\n', '417.241272\\t372887.15625\\n', '419.257111\\t478301.34375\\n', '437.264343\\t32298.201172\\n', '486.297699\\t9509.390625\\n', '487.30365\\t10602.061523\\n', '551.266357\\t51870.988281\\n', '553.278748\\t1623995.75\\n', '554.282593\\t100466.5625\\n', '555.284607\\t84751.554688\\n', '571.289551\\t276690.375\\n', '572.291626\\t17098.964844\\n', '578.277893\\t8612.662109\\n', '579.294067\\t410512.125\\n', '579.385193\\t13911.662109\\n', '581.31012\\t371789.78125\\n', '597.304626\\t50516.28125\\n', '599.320251\\t56279.136719\\n', '673.479919\\t13662.139648\\n', '733.083618\\t7671.005371\\n', '797.925171\\t8622.617188\\n', '835.534302\\t10232214.0\\n', 'END IONS\\n']\n"
     ]
    }
   ],
   "source": [
    "print(predicted_positive_spectra[22])"
   ]
  },
  {
   "cell_type": "code",
   "execution_count": 51,
   "metadata": {},
   "outputs": [
    {
     "name": "stdout",
     "output_type": "stream",
     "text": [
      "SPECTRUMID=CCMSLIB00009971313\n",
      "\n"
     ]
    }
   ],
   "source": [
    "print(predicted_positive_spectra[24][18])"
   ]
  },
  {
   "cell_type": "code",
   "execution_count": 52,
   "metadata": {},
   "outputs": [
    {
     "name": "stdout",
     "output_type": "stream",
     "text": [
      "SPECTRUMID=CCMSLIB00009958923\n",
      "FEATURE_ID=CCMSLIB00009958923\n",
      "POLARITY=POS\n",
      "ION=[M+H]+\n",
      "\n"
     ]
    }
   ],
   "source": [
    "print(predicted_positive_spectra[22][18])"
   ]
  }
 ],
 "metadata": {
  "kernelspec": {
   "display_name": "Python 3",
   "language": "python",
   "name": "python3"
  },
  "language_info": {
   "codemirror_mode": {
    "name": "ipython",
    "version": 3
   },
   "file_extension": ".py",
   "mimetype": "text/x-python",
   "name": "python",
   "nbconvert_exporter": "python",
   "pygments_lexer": "ipython3",
   "version": "3.9.13"
  },
  "orig_nbformat": 4
 },
 "nbformat": 4,
 "nbformat_minor": 2
}
